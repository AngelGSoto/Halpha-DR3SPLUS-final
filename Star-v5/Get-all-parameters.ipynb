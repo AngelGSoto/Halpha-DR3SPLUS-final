{
 "cells": [
  {
   "cell_type": "code",
   "execution_count": 1,
   "id": "a186524a",
   "metadata": {},
   "outputs": [
    {
     "name": "stderr",
     "output_type": "stream",
     "text": [
      "WARNING: AstropyDeprecationWarning: The update_default_config function is deprecated and may be removed in a future version. [astroquery._astropy_init]\n"
     ]
    }
   ],
   "source": [
    "import splusdata\n",
    "import getpass\n",
    "import pandas as pd\n",
    "from astropy.table import Table\n",
    "from pathlib import Path"
   ]
  },
  {
   "cell_type": "code",
   "execution_count": 2,
   "id": "85e65728",
   "metadata": {},
   "outputs": [
    {
     "name": "stdout",
     "output_type": "stream",
     "text": [
      "Login: Luis\n",
      "Password: ········\n",
      "You have access to internal data\n"
     ]
    }
   ],
   "source": [
    "# Connecting with SPLUS database\n",
    "username = input(prompt=\"Login: \")\n",
    "password = getpass.getpass(\"Password: \")\n",
    "conn = splusdata.connect(username, password)"
   ]
  },
  {
   "cell_type": "code",
   "execution_count": 3,
   "id": "cbee4781",
   "metadata": {},
   "outputs": [
    {
     "data": {
      "text/html": [
       "<div><i>Table length=2187</i>\n",
       "<table id=\"table140144393325632\" class=\"table-striped table-bordered table-condensed\">\n",
       "<thead><tr><th>ID</th><th>RA</th><th>DEC</th></tr></thead>\n",
       "<thead><tr><th>str25</th><th>float64</th><th>float64</th></tr></thead>\n",
       "<tr><td>iDR3.SPLUS-n14s03.023094</td><td>152.8181274669201</td><td>-17.691006662063717</td></tr>\n",
       "<tr><td>iDR3.HYDRA-0077.084865</td><td>150.3833525981921</td><td>-33.04326108927795</td></tr>\n",
       "<tr><td>iDR3.SPLUS-s23s45.020422</td><td>352.25183229093045</td><td>-29.77943600230389</td></tr>\n",
       "<tr><td>iDR3.SPLUS-n18s18.000089</td><td>174.85074360973368</td><td>-23.627453015369365</td></tr>\n",
       "<tr><td>iDR3.HYDRA-0049.043611</td><td>149.6811639194094</td><td>-29.463706851408396</td></tr>\n",
       "<tr><td>iDR3.SPLUS-s26s50.002280</td><td>319.5178198321214</td><td>-34.22870112817704</td></tr>\n",
       "<tr><td>iDR3.SPLUS-n07s41.026589</td><td>205.91016519674625</td><td>-8.234371065828142</td></tr>\n",
       "<tr><td>iDR3.SPLUS-n15s05.030347</td><td>156.19240356520726</td><td>-18.640259406430125</td></tr>\n",
       "<tr><td>...</td><td>...</td><td>...</td></tr>\n",
       "<tr><td>iDR3.SPLUS-s23s08.019649</td><td>10.532306720468489</td><td>-29.73613311955997</td></tr>\n",
       "<tr><td>iDR3.SPLUS-s22s24.013002</td><td>320.2093401753881</td><td>-28.64819421743832</td></tr>\n",
       "<tr><td>iDR3.SPLUS-s17s30.036186</td><td>325.93507236685474</td><td>-21.477605888195143</td></tr>\n",
       "<tr><td>iDR3.SPLUS-n03s18.004879</td><td>174.3444074235374</td><td>-3.3125929783660943</td></tr>\n",
       "<tr><td>iDR3.STRIPE82-0125.029072</td><td>327.127535195112</td><td>-0.797904422039106</td></tr>\n",
       "<tr><td>iDR3.STRIPE82-0132.057659</td><td>331.01569880774014</td><td>1.1074578620103064</td></tr>\n",
       "<tr><td>iDR3.SPLUS-s23s19.013644</td><td>28.19681124184145</td><td>-29.890677621942874</td></tr>\n",
       "<tr><td>iDR3.STRIPE82-0061.047759</td><td>42.22020967186947</td><td>-0.3450287643994487</td></tr>\n",
       "</table></div>"
      ],
      "text/plain": [
       "<Table length=2187>\n",
       "            ID                    RA                 DEC        \n",
       "          str25                float64             float64      \n",
       "------------------------- ------------------ -------------------\n",
       " iDR3.SPLUS-n14s03.023094  152.8181274669201 -17.691006662063717\n",
       "   iDR3.HYDRA-0077.084865  150.3833525981921  -33.04326108927795\n",
       " iDR3.SPLUS-s23s45.020422 352.25183229093045  -29.77943600230389\n",
       " iDR3.SPLUS-n18s18.000089 174.85074360973368 -23.627453015369365\n",
       "   iDR3.HYDRA-0049.043611  149.6811639194094 -29.463706851408396\n",
       " iDR3.SPLUS-s26s50.002280  319.5178198321214  -34.22870112817704\n",
       " iDR3.SPLUS-n07s41.026589 205.91016519674625  -8.234371065828142\n",
       " iDR3.SPLUS-n15s05.030347 156.19240356520726 -18.640259406430125\n",
       "                      ...                ...                 ...\n",
       " iDR3.SPLUS-s23s08.019649 10.532306720468489  -29.73613311955997\n",
       " iDR3.SPLUS-s22s24.013002  320.2093401753881  -28.64819421743832\n",
       " iDR3.SPLUS-s17s30.036186 325.93507236685474 -21.477605888195143\n",
       " iDR3.SPLUS-n03s18.004879  174.3444074235374 -3.3125929783660943\n",
       "iDR3.STRIPE82-0125.029072   327.127535195112  -0.797904422039106\n",
       "iDR3.STRIPE82-0132.057659 331.01569880774014  1.1074578620103064\n",
       " iDR3.SPLUS-s23s19.013644  28.19681124184145 -29.890677621942874\n",
       "iDR3.STRIPE82-0061.047759  42.22020967186947 -0.3450287643994487"
      ]
     },
     "execution_count": 3,
     "metadata": {},
     "output_type": "execute_result"
    }
   ],
   "source": [
    "table = Table.read(\"Halpha-DR3_PStotal-STAR_total-clean-coor.ecsv\", format=\"ascii.ecsv\")\n",
    "table"
   ]
  },
  {
   "cell_type": "code",
   "execution_count": 4,
   "id": "07c8aec2",
   "metadata": {},
   "outputs": [],
   "source": [
    "Query = f\"\"\"SELECT detection.Field, detection.ID, detection.RA, detection.DEC,\n",
    "          detection.FWHM, detection.ISOarea, detection.KRON_RADIUS, \n",
    "           detection.MU_MAX, detection.nDet_PStotal, detection.PhotoFlagDet, \n",
    "                  detection.CLASS_STAR, detection.u_PStotal, detection.J0378_PStotal, \n",
    "                  detection.J0395_PStotal, detection.J0410_PStotal, detection.J0430_PStotal, \n",
    "                  detection.g_PStotal, detection.J0515_PStotal, detection.r_PStotal, \n",
    "                  detection.J0660_PStotal, detection.i_PStotal, \n",
    "                  detection.J0861_PStotal, detection.z_PStotal, detection.e_u_PStotal, \n",
    "                  detection.e_J0378_PStotal, detection.e_J0395_PStotal, \n",
    "                  detection.e_J0410_PStotal, detection.e_J0430_PStotal, \n",
    "                  detection.e_g_PStotal, detection.e_J0515_PStotal, detection.e_R_PStotal, \n",
    "                  detection.e_J0660_PStotal, detection.e_i_PStotal, \n",
    "                  detection.e_J0861_PStotal, detection.e_z_PStotal \n",
    "                  FROM TAP_UPLOAD.upload as tap \n",
    "                  LEFT OUTER JOIN \"idr3\".\"all_idr3\" as detection ON tap.ID = detection.ID\"\"\" "
   ]
  },
  {
   "cell_type": "code",
   "execution_count": 5,
   "id": "4da60f18",
   "metadata": {},
   "outputs": [],
   "source": [
    "# coverting in pandas table\n",
    "df = (table.to_pandas())"
   ]
  },
  {
   "cell_type": "code",
   "execution_count": 6,
   "id": "ea28a02b",
   "metadata": {},
   "outputs": [
    {
     "name": "stdout",
     "output_type": "stream",
     "text": [
      "Cutting to the first 6000 objects!\n",
      "finished\n"
     ]
    }
   ],
   "source": [
    "results = conn.query(Query, df)"
   ]
  },
  {
   "cell_type": "code",
   "execution_count": 7,
   "id": "84bcc794",
   "metadata": {},
   "outputs": [
    {
     "data": {
      "text/html": [
       "<div><i>Table length=2187</i>\n",
       "<table id=\"table140144389163280\" class=\"table-striped table-bordered table-condensed\">\n",
       "<thead><tr><th>Field</th><th>ID</th><th>RA</th><th>DEC</th><th>FWHM</th><th>ISOarea</th><th>KRON_RADIUS</th><th>MU_MAX</th><th>nDet_PStotal</th><th>PhotoFlagDet</th><th>CLASS_STAR</th><th>u_PStotal</th><th>J0378_PStotal</th><th>J0395_PStotal</th><th>J0410_PStotal</th><th>J0430_PStotal</th><th>g_PStotal</th><th>J0515_PStotal</th><th>r_PStotal</th><th>J0660_PStotal</th><th>i_PStotal</th><th>J0861_PStotal</th><th>z_PStotal</th><th>e_u_PStotal</th><th>e_J0378_PStotal</th><th>e_J0395_PStotal</th><th>e_J0410_PStotal</th><th>e_J0430_PStotal</th><th>e_g_PStotal</th><th>e_J0515_PStotal</th><th>e_r_PStotal</th><th>e_J0660_PStotal</th><th>e_i_PStotal</th><th>e_J0861_PStotal</th><th>e_z_PStotal</th></tr></thead>\n",
       "<thead><tr><th>bytes13</th><th>bytes25</th><th>float64</th><th>float64</th><th>float32</th><th>int32</th><th>float32</th><th>float32</th><th>float32</th><th>int16</th><th>float32</th><th>float32</th><th>float32</th><th>float32</th><th>float32</th><th>float32</th><th>float32</th><th>float32</th><th>float32</th><th>float32</th><th>float32</th><th>float32</th><th>float32</th><th>float32</th><th>float32</th><th>float32</th><th>float32</th><th>float32</th><th>float32</th><th>float32</th><th>float32</th><th>float32</th><th>float32</th><th>float32</th><th>float32</th></tr></thead>\n",
       "<tr><td>SPLUS-n14s03</td><td>iDR3.SPLUS-n14s03.023094</td><td>152.8181274669201</td><td>-17.691006662063717</td><td>2.1624088</td><td>525</td><td>2.5470395</td><td>10.630968</td><td>12.0</td><td>0</td><td>0.98556316</td><td>16.675</td><td>16.575087</td><td>16.565655</td><td>16.527618</td><td>16.304626</td><td>15.712595</td><td>15.602545</td><td>14.579465</td><td>14.0418</td><td>14.135739</td><td>13.788973</td><td>13.767706</td><td>0.008367871</td><td>0.010959222</td><td>0.016197262</td><td>0.013490986</td><td>0.01168062</td><td>0.0036377683</td><td>0.006542854</td><td>0.0019118824</td><td>0.0017056591</td><td>0.0015655286</td><td>0.0022590514</td><td>0.0016148265</td></tr>\n",
       "<tr><td>HYDRA-0077</td><td>iDR3.HYDRA-0077.084865</td><td>150.3833525981921</td><td>-33.04326108927795</td><td>2.0607584</td><td>271</td><td>2.7454164</td><td>12.111699</td><td>12.0</td><td>0</td><td>0.9744056</td><td>15.377505</td><td>15.103262</td><td>15.133448</td><td>15.320404</td><td>15.284002</td><td>15.461737</td><td>15.1573105</td><td>15.294937</td><td>14.924424</td><td>15.239864</td><td>15.167364</td><td>15.103933</td><td>0.0041474504</td><td>0.0051319078</td><td>0.0074203094</td><td>0.006743164</td><td>0.0062654694</td><td>0.003002383</td><td>0.005049821</td><td>0.0025884358</td><td>0.002551199</td><td>0.0026570049</td><td>0.0043973643</td><td>0.0031603232</td></tr>\n",
       "<tr><td>SPLUS-s23s45</td><td>iDR3.SPLUS-s23s45.020422</td><td>352.25183229093045</td><td>-29.779436002303886</td><td>2.044366</td><td>246</td><td>2.8794162</td><td>11.472648</td><td>12.0</td><td>0</td><td>0.9949884</td><td>15.014418</td><td>15.0137825</td><td>14.86295</td><td>15.40941</td><td>15.349426</td><td>15.492199</td><td>15.61466</td><td>15.360847</td><td>15.001359</td><td>15.375683</td><td>15.355514</td><td>15.372553</td><td>0.0036281033</td><td>0.005232113</td><td>0.006912789</td><td>0.007903258</td><td>0.0074264407</td><td>0.0033800846</td><td>0.0068050027</td><td>0.0027771622</td><td>0.0027179983</td><td>0.0028790685</td><td>0.005049378</td><td>0.0038802992</td></tr>\n",
       "<tr><td>SPLUS-n18s18</td><td>iDR3.SPLUS-n18s18.000089</td><td>174.85074360973368</td><td>-23.627453015369365</td><td>2.552651</td><td>252</td><td>2.627111</td><td>10.996559</td><td>12.0</td><td>0</td><td>0.97272193</td><td>19.206873</td><td>18.91611</td><td>18.565432</td><td>17.605415</td><td>16.900711</td><td>16.123627</td><td>16.05058</td><td>15.496835</td><td>14.925963</td><td>14.985117</td><td>14.378416</td><td>14.279529</td><td>0.030095164</td><td>0.03718928</td><td>0.04577469</td><td>0.022940971</td><td>0.014658539</td><td>0.004242254</td><td>0.0077724964</td><td>0.002779395</td><td>0.0024901687</td><td>0.002253219</td><td>0.0029221291</td><td>0.0019664422</td></tr>\n",
       "<tr><td>HYDRA-0049</td><td>iDR3.HYDRA-0049.043611</td><td>149.6811639194094</td><td>-29.463706851408393</td><td>3.168911</td><td>395</td><td>3.0581338</td><td>11.737776</td><td>12.0</td><td>0</td><td>0.8713998</td><td>16.499258</td><td>16.07152</td><td>15.84794</td><td>15.5683155</td><td>15.472755</td><td>15.513618</td><td>15.65655</td><td>15.418391</td><td>14.922369</td><td>15.678785</td><td>14.766943</td><td>15.023354</td><td>0.0067930445</td><td>0.007799911</td><td>0.009739173</td><td>0.0072659985</td><td>0.0066586416</td><td>0.002987191</td><td>0.00610634</td><td>0.0026267627</td><td>0.0030067419</td><td>0.003147013</td><td>0.0036072289</td><td>0.0028952195</td></tr>\n",
       "<tr><td>SPLUS-s26s50</td><td>iDR3.SPLUS-s26s50.002280</td><td>319.5178198321214</td><td>-34.22870112817704</td><td>2.2525218</td><td>245</td><td>2.9232867</td><td>12.185197</td><td>12.0</td><td>0</td><td>0.99263054</td><td>15.688907</td><td>15.642181</td><td>15.974881</td><td>16.06849</td><td>15.877293</td><td>16.180721</td><td>16.262272</td><td>15.903326</td><td>15.288493</td><td>15.884396</td><td>15.512299</td><td>15.861019</td><td>0.005097972</td><td>0.0066768196</td><td>0.010637249</td><td>0.010216351</td><td>0.009255345</td><td>0.004519814</td><td>0.009045831</td><td>0.003455476</td><td>0.003104158</td><td>0.0034569358</td><td>0.0050895605</td><td>0.0041131326</td></tr>\n",
       "<tr><td>SPLUS-n07s41</td><td>iDR3.SPLUS-n07s41.026589</td><td>205.91016519674622</td><td>-8.234371065828142</td><td>3.3731456</td><td>194</td><td>3.209087</td><td>12.5739</td><td>12.0</td><td>0</td><td>0.9915205</td><td>15.942299</td><td>15.794027</td><td>15.686374</td><td>15.856902</td><td>15.948679</td><td>15.94547</td><td>15.914673</td><td>15.770126</td><td>15.452086</td><td>15.772181</td><td>15.619708</td><td>15.696314</td><td>0.005493663</td><td>0.007949956</td><td>0.010620637</td><td>0.009578522</td><td>0.009578453</td><td>0.0040983115</td><td>0.0075591253</td><td>0.0032521451</td><td>0.0032415562</td><td>0.0035002416</td><td>0.0060131866</td><td>0.0045240466</td></tr>\n",
       "<tr><td>SPLUS-n15s05</td><td>iDR3.SPLUS-n15s05.030347</td><td>156.19240356520726</td><td>-18.640259406430125</td><td>14.521703</td><td>138</td><td>3.837694</td><td>10.72244</td><td>12.0</td><td>3</td><td>0.9966479</td><td>13.979157</td><td>14.111893</td><td>13.513956</td><td>14.429493</td><td>13.812301</td><td>12.277587</td><td>14.090717</td><td>13.436792</td><td>11.47743</td><td>14.596424</td><td>14.9057865</td><td>14.595655</td><td>0.0023457687</td><td>0.0034884429</td><td>0.0037125463</td><td>0.0050783996</td><td>0.0037088247</td><td>0.0007822407</td><td>0.00353299</td><td>0.0011593059</td><td>0.0005376379</td><td>0.0020410556</td><td>0.004122773</td><td>0.0025074475</td></tr>\n",
       "<tr><td>...</td><td>...</td><td>...</td><td>...</td><td>...</td><td>...</td><td>...</td><td>...</td><td>...</td><td>...</td><td>...</td><td>...</td><td>...</td><td>...</td><td>...</td><td>...</td><td>...</td><td>...</td><td>...</td><td>...</td><td>...</td><td>...</td><td>...</td><td>...</td><td>...</td><td>...</td><td>...</td><td>...</td><td>...</td><td>...</td><td>...</td><td>...</td><td>...</td><td>...</td><td>...</td></tr>\n",
       "<tr><td>SPLUS-s23s08</td><td>iDR3.SPLUS-s23s08.019649</td><td>10.532306720468487</td><td>-29.736133119559966</td><td>5.232064</td><td>14</td><td>4.9873247</td><td>17.356735</td><td>12.0</td><td>2</td><td>0.50980407</td><td>21.280207</td><td>20.835907</td><td>21.158386</td><td>21.014574</td><td>21.29789</td><td>21.287048</td><td>21.143932</td><td>20.647951</td><td>19.804976</td><td>20.787945</td><td>19.987484</td><td>20.40657</td><td>0.17378639</td><td>0.23994534</td><td>0.44023293</td><td>0.32199168</td><td>0.40663794</td><td>0.1240196</td><td>0.2745261</td><td>0.07416796</td><td>0.044925492</td><td>0.12428127</td><td>0.14107905</td><td>0.17195527</td></tr>\n",
       "<tr><td>SPLUS-s22s24</td><td>iDR3.SPLUS-s22s24.013002</td><td>320.20934017538815</td><td>-28.648194217438316</td><td>3.9415457</td><td>15</td><td>5.546652</td><td>17.277245</td><td>12.0</td><td>0</td><td>0.67475706</td><td>22.90441</td><td>23.283085</td><td>21.518385</td><td>21.656786</td><td>21.379873</td><td>23.124308</td><td>22.500046</td><td>20.632025</td><td>19.721891</td><td>20.097275</td><td>19.98745</td><td>19.92471</td><td>0.7344165</td><td>1.7886848</td><td>0.52852726</td><td>0.56398827</td><td>0.43101892</td><td>0.6647593</td><td>0.98209983</td><td>0.073882684</td><td>0.040203825</td><td>0.068774216</td><td>0.14280918</td><td>0.11497313</td></tr>\n",
       "<tr><td>SPLUS-s17s30</td><td>iDR3.SPLUS-s17s30.036186</td><td>325.93507236685474</td><td>-21.477605888195146</td><td>2.6756115</td><td>11</td><td>5.0446033</td><td>16.905933</td><td>11.0</td><td>2</td><td>0.7937833</td><td>23.588327</td><td>99.0</td><td>22.996851</td><td>22.925434</td><td>21.462734</td><td>20.968712</td><td>19.904701</td><td>20.565311</td><td>19.749706</td><td>20.428902</td><td>20.799877</td><td>20.30857</td><td>1.3147615</td><td>22.059147</td><td>1.8224963</td><td>1.4552114</td><td>0.38494644</td><td>0.08915201</td><td>0.08536589</td><td>0.077546164</td><td>0.044019714</td><td>0.10064647</td><td>0.33391297</td><td>0.17349066</td></tr>\n",
       "<tr><td>SPLUS-n03s18</td><td>iDR3.SPLUS-n03s18.004879</td><td>174.3444074235374</td><td>-3.3125929783660943</td><td>5.6419935</td><td>15</td><td>6.1795673</td><td>17.17681</td><td>12.0</td><td>2</td><td>0.5642817</td><td>21.547806</td><td>21.304468</td><td>22.34265</td><td>21.574844</td><td>21.349382</td><td>21.170525</td><td>21.496216</td><td>20.731617</td><td>19.89655</td><td>20.80897</td><td>20.118773</td><td>20.286373</td><td>0.23553991</td><td>0.27566695</td><td>1.1067834</td><td>0.4897862</td><td>0.3776368</td><td>0.108106904</td><td>0.33211416</td><td>0.07460495</td><td>0.043763366</td><td>0.14296257</td><td>0.14039686</td><td>0.14149782</td></tr>\n",
       "<tr><td>STRIPE82-0125</td><td>iDR3.STRIPE82-0125.029072</td><td>327.127535195112</td><td>-0.797904422039106</td><td>2.0901268</td><td>7</td><td>1.82</td><td>16.85383</td><td>12.0</td><td>0</td><td>0.54914796</td><td>21.96176</td><td>21.633818</td><td>21.94574</td><td>22.73768</td><td>22.108326</td><td>21.432835</td><td>21.321358</td><td>20.853798</td><td>19.91396</td><td>20.692501</td><td>20.279907</td><td>20.650448</td><td>0.4435001</td><td>0.48120147</td><td>0.9317196</td><td>1.8555993</td><td>1.005176</td><td>0.21567109</td><td>0.39555943</td><td>0.10984302</td><td>0.055458546</td><td>0.11692</td><td>0.18083529</td><td>0.20476887</td></tr>\n",
       "<tr><td>STRIPE82-0132</td><td>iDR3.STRIPE82-0132.057659</td><td>331.01569880774014</td><td>1.1074578620103064</td><td>3.0680428</td><td>10</td><td>5.251886</td><td>17.31588</td><td>12.0</td><td>2</td><td>0.6091401</td><td>21.442451</td><td>22.66933</td><td>20.962551</td><td>21.231575</td><td>21.084188</td><td>21.397928</td><td>21.439405</td><td>20.878489</td><td>19.952087</td><td>21.123137</td><td>20.181057</td><td>21.40245</td><td>0.19814084</td><td>0.86291635</td><td>0.29682598</td><td>0.32881075</td><td>0.2764367</td><td>0.119230784</td><td>0.30857766</td><td>0.08532398</td><td>0.04523276</td><td>0.16368057</td><td>0.14941809</td><td>0.4009258</td></tr>\n",
       "<tr><td>SPLUS-s23s19</td><td>iDR3.SPLUS-s23s19.013644</td><td>28.19681124184145</td><td>-29.890677621942874</td><td>6.4697785</td><td>10</td><td>5.489925</td><td>17.634684</td><td>12.0</td><td>0</td><td>0.6537597</td><td>21.62697</td><td>22.156849</td><td>23.343393</td><td>22.490442</td><td>22.24443</td><td>21.534729</td><td>21.018692</td><td>20.81253</td><td>20.167912</td><td>21.030071</td><td>20.54859</td><td>21.131628</td><td>0.21607286</td><td>0.5860424</td><td>3.8654811</td><td>1.1955659</td><td>0.93164843</td><td>0.15023424</td><td>0.261225</td><td>0.08442261</td><td>0.05842351</td><td>0.14062116</td><td>0.26919743</td><td>0.30466878</td></tr>\n",
       "<tr><td>STRIPE82-0061</td><td>iDR3.STRIPE82-0061.047759</td><td>42.22020967186947</td><td>-0.34502876439944874</td><td>2.5409412</td><td>53</td><td>8.001971</td><td>16.101028</td><td>12.0</td><td>3</td><td>0.5273005</td><td>20.893192</td><td>20.312292</td><td>20.402306</td><td>21.052319</td><td>20.8509</td><td>19.856806</td><td>18.58414</td><td>20.165321</td><td>18.327484</td><td>20.750933</td><td>20.67516</td><td>20.75483</td><td>0.11210991</td><td>0.10218058</td><td>0.16474709</td><td>0.24084188</td><td>0.19035453</td><td>0.031337913</td><td>0.0287673</td><td>0.041986573</td><td>0.0135657815</td><td>0.09813797</td><td>0.23051497</td><td>0.1906158</td></tr>\n",
       "</table></div>"
      ],
      "text/plain": [
       "<Table length=2187>\n",
       "    Field                 ID                    RA                 DEC             FWHM   ISOarea KRON_RADIUS ... e_J0515_PStotal e_r_PStotal  e_J0660_PStotal e_i_PStotal  e_J0861_PStotal e_z_PStotal \n",
       "   bytes13             bytes25               float64             float64         float32   int32    float32   ...     float32       float32        float32       float32        float32       float32   \n",
       "------------- ------------------------- ------------------ -------------------- --------- ------- ----------- ... --------------- ------------ --------------- ------------ --------------- ------------\n",
       "SPLUS-n14s03  iDR3.SPLUS-n14s03.023094   152.8181274669201  -17.691006662063717 2.1624088     525   2.5470395 ...     0.006542854 0.0019118824    0.0017056591 0.0015655286    0.0022590514 0.0016148265\n",
       "HYDRA-0077    iDR3.HYDRA-0077.084865     150.3833525981921   -33.04326108927795 2.0607584     271   2.7454164 ...     0.005049821 0.0025884358     0.002551199 0.0026570049    0.0043973643 0.0031603232\n",
       "SPLUS-s23s45  iDR3.SPLUS-s23s45.020422  352.25183229093045  -29.779436002303886  2.044366     246   2.8794162 ...    0.0068050027 0.0027771622    0.0027179983 0.0028790685     0.005049378 0.0038802992\n",
       "SPLUS-n18s18  iDR3.SPLUS-n18s18.000089  174.85074360973368  -23.627453015369365  2.552651     252    2.627111 ...    0.0077724964  0.002779395    0.0024901687  0.002253219    0.0029221291 0.0019664422\n",
       "HYDRA-0049    iDR3.HYDRA-0049.043611     149.6811639194094  -29.463706851408393  3.168911     395   3.0581338 ...      0.00610634 0.0026267627    0.0030067419  0.003147013    0.0036072289 0.0028952195\n",
       "SPLUS-s26s50  iDR3.SPLUS-s26s50.002280   319.5178198321214   -34.22870112817704 2.2525218     245   2.9232867 ...     0.009045831  0.003455476     0.003104158 0.0034569358    0.0050895605 0.0041131326\n",
       "SPLUS-n07s41  iDR3.SPLUS-n07s41.026589  205.91016519674622   -8.234371065828142 3.3731456     194    3.209087 ...    0.0075591253 0.0032521451    0.0032415562 0.0035002416    0.0060131866 0.0045240466\n",
       "SPLUS-n15s05  iDR3.SPLUS-n15s05.030347  156.19240356520726  -18.640259406430125 14.521703     138    3.837694 ...      0.00353299 0.0011593059    0.0005376379 0.0020410556     0.004122773 0.0025074475\n",
       "          ...                       ...                ...                  ...       ...     ...         ... ...             ...          ...             ...          ...             ...          ...\n",
       "SPLUS-s23s08  iDR3.SPLUS-s23s08.019649  10.532306720468487  -29.736133119559966  5.232064      14   4.9873247 ...       0.2745261   0.07416796     0.044925492   0.12428127      0.14107905   0.17195527\n",
       "SPLUS-s22s24  iDR3.SPLUS-s22s24.013002  320.20934017538815  -28.648194217438316 3.9415457      15    5.546652 ...      0.98209983  0.073882684     0.040203825  0.068774216      0.14280918   0.11497313\n",
       "SPLUS-s17s30  iDR3.SPLUS-s17s30.036186  325.93507236685474  -21.477605888195146 2.6756115      11   5.0446033 ...      0.08536589  0.077546164     0.044019714   0.10064647      0.33391297   0.17349066\n",
       "SPLUS-n03s18  iDR3.SPLUS-n03s18.004879   174.3444074235374  -3.3125929783660943 5.6419935      15   6.1795673 ...      0.33211416   0.07460495     0.043763366   0.14296257      0.14039686   0.14149782\n",
       "STRIPE82-0125 iDR3.STRIPE82-0125.029072   327.127535195112   -0.797904422039106 2.0901268       7        1.82 ...      0.39555943   0.10984302     0.055458546      0.11692      0.18083529   0.20476887\n",
       "STRIPE82-0132 iDR3.STRIPE82-0132.057659 331.01569880774014   1.1074578620103064 3.0680428      10    5.251886 ...      0.30857766   0.08532398      0.04523276   0.16368057      0.14941809    0.4009258\n",
       "SPLUS-s23s19  iDR3.SPLUS-s23s19.013644   28.19681124184145  -29.890677621942874 6.4697785      10    5.489925 ...        0.261225   0.08442261      0.05842351   0.14062116      0.26919743   0.30466878\n",
       "STRIPE82-0061 iDR3.STRIPE82-0061.047759  42.22020967186947 -0.34502876439944874 2.5409412      53    8.001971 ...       0.0287673  0.041986573    0.0135657815   0.09813797      0.23051497    0.1906158"
      ]
     },
     "execution_count": 7,
     "metadata": {},
     "output_type": "execute_result"
    }
   ],
   "source": [
    "results"
   ]
  },
  {
   "cell_type": "code",
   "execution_count": 8,
   "id": "450644bc",
   "metadata": {},
   "outputs": [],
   "source": [
    "results.write(\"Halpha-DR3_PStotal-STAR_total-clean-unique.ecsv\", format=\"ascii.ecsv\", overwrite=True)\n",
    "df_table = results.to_pandas()\n",
    "df_table.to_csv(\"Halpha-DR3_PStotal-STAR_total-clean-unique.csv\", index = False)"
   ]
  },
  {
   "cell_type": "code",
   "execution_count": null,
   "id": "96ac7a57",
   "metadata": {},
   "outputs": [],
   "source": []
  }
 ],
 "metadata": {
  "kernelspec": {
   "display_name": "Python 3 (ipykernel)",
   "language": "python",
   "name": "python3"
  },
  "language_info": {
   "codemirror_mode": {
    "name": "ipython",
    "version": 3
   },
   "file_extension": ".py",
   "mimetype": "text/x-python",
   "name": "python",
   "nbconvert_exporter": "python",
   "pygments_lexer": "ipython3",
   "version": "3.8.5"
  }
 },
 "nbformat": 4,
 "nbformat_minor": 5
}
